{
 "cells": [
  {
   "cell_type": "code",
   "execution_count": 1,
   "id": "95f0e002-44e6-401a-ac8f-352a0afe8196",
   "metadata": {},
   "outputs": [],
   "source": [
    "path = \"homolog.txt\""
   ]
  },
  {
   "cell_type": "code",
   "execution_count": 32,
   "id": "b357d11e-5de6-47a4-a54b-69e01c2e1e41",
   "metadata": {},
   "outputs": [],
   "source": [
    "import os\n",
    "import pandas as pd"
   ]
  },
  {
   "cell_type": "code",
   "execution_count": 3,
   "id": "fb9f43de-8934-4af4-b5a4-ee9bfe7b4daf",
   "metadata": {},
   "outputs": [],
   "source": [
    "f = open(path)"
   ]
  },
  {
   "cell_type": "code",
   "execution_count": 4,
   "id": "9d195ff7-d5e9-4b6d-9880-d2186f75782f",
   "metadata": {},
   "outputs": [],
   "source": [
    "data = f.readlines()"
   ]
  },
  {
   "cell_type": "code",
   "execution_count": 5,
   "id": "a8b84d1f-33c3-4ee8-a6d6-a474fea53d42",
   "metadata": {},
   "outputs": [],
   "source": [
    "d2 = list(map(lambda x: x.strip().split(\"=\"), data))"
   ]
  },
  {
   "cell_type": "code",
   "execution_count": 6,
   "id": "ed095991-a8da-4d70-974d-661e68b6aa32",
   "metadata": {},
   "outputs": [
    {
     "data": {
      "text/plain": [
       "True"
      ]
     },
     "execution_count": 6,
     "metadata": {},
     "output_type": "execute_result"
    }
   ],
   "source": [
    "all(len(e)==2 for e in d2)"
   ]
  },
  {
   "cell_type": "code",
   "execution_count": 7,
   "id": "76fcae89-6dc0-4205-a581-3de820e3e4f9",
   "metadata": {},
   "outputs": [],
   "source": [
    "dd = dict()"
   ]
  },
  {
   "cell_type": "code",
   "execution_count": 8,
   "id": "0acb368a-c2d0-4188-9c7c-3722e7361873",
   "metadata": {},
   "outputs": [],
   "source": [
    "for name, homo in d2:\n",
    "    if homo not in dd:\n",
    "        dd[homo] = []\n",
    "    \n",
    "    dd[homo].append(name)"
   ]
  },
  {
   "cell_type": "code",
   "execution_count": 22,
   "id": "b5396fb5-69f1-4d9d-9928-585004de7a7a",
   "metadata": {},
   "outputs": [],
   "source": [
    "max_len = max(len(val) for key, val in dd.items())"
   ]
  },
  {
   "cell_type": "code",
   "execution_count": 23,
   "id": "d06860a7-bc25-4031-aefa-04e4fbcb6a34",
   "metadata": {},
   "outputs": [],
   "source": [
    "fw= open(\"MYB_orthologs.tsv\", \"w\")"
   ]
  },
  {
   "cell_type": "code",
   "execution_count": 24,
   "id": "5114a6ab-1229-49c1-8d64-46060512be8a",
   "metadata": {},
   "outputs": [
    {
     "data": {
      "text/plain": [
       "52"
      ]
     },
     "execution_count": 24,
     "metadata": {},
     "output_type": "execute_result"
    }
   ],
   "source": [
    "fw.write(\"\\t\".join([\"Orthogroup\"] + [str(i) for i in range(max_len)]) + \"\\n\")"
   ]
  },
  {
   "cell_type": "code",
   "execution_count": 25,
   "id": "564088c5-ca08-4985-a19d-07d1a136d6ed",
   "metadata": {},
   "outputs": [],
   "source": [
    "for key, val in sorted(dd.items(), key = lambda x:len(x[1])):\n",
    "    fw.write(key + \"\\t\" + \"\\t\".join(sorted(val)) + \"\\n\")"
   ]
  },
  {
   "cell_type": "code",
   "execution_count": 26,
   "id": "27510aed-b008-42e2-9eb0-36495c019884",
   "metadata": {},
   "outputs": [],
   "source": [
    "fw.close()"
   ]
  },
  {
   "cell_type": "code",
   "execution_count": 28,
   "id": "37a5ccfb-831b-44a5-98e9-3916cded46a1",
   "metadata": {},
   "outputs": [],
   "source": [
    "idf = {}"
   ]
  },
  {
   "cell_type": "code",
   "execution_count": 30,
   "id": "941a8757-fa3e-4164-9863-a8176980e4c5",
   "metadata": {},
   "outputs": [],
   "source": [
    "for name, homo in d2:\n",
    "    idf[name] = homo"
   ]
  },
  {
   "cell_type": "code",
   "execution_count": 33,
   "id": "8a6da8b3-47ae-451f-9a4e-9cbbdaba0ec1",
   "metadata": {},
   "outputs": [],
   "source": [
    "df = pd.read_csv(\"../FIGURE/figure3/CM334.tissue/carotenoid.txt\", sep = \"\\t\")"
   ]
  },
  {
   "cell_type": "code",
   "execution_count": 34,
   "id": "281c4195-7210-434e-add8-4318fd8747d0",
   "metadata": {},
   "outputs": [
    {
     "data": {
      "text/html": [
       "<div>\n",
       "<style scoped>\n",
       "    .dataframe tbody tr th:only-of-type {\n",
       "        vertical-align: middle;\n",
       "    }\n",
       "\n",
       "    .dataframe tbody tr th {\n",
       "        vertical-align: top;\n",
       "    }\n",
       "\n",
       "    .dataframe thead th {\n",
       "        text-align: right;\n",
       "    }\n",
       "</style>\n",
       "<table border=\"1\" class=\"dataframe\">\n",
       "  <thead>\n",
       "    <tr style=\"text-align: right;\">\n",
       "      <th></th>\n",
       "      <th>name</th>\n",
       "      <th>id</th>\n",
       "      <th>type</th>\n",
       "    </tr>\n",
       "  </thead>\n",
       "  <tbody>\n",
       "    <tr>\n",
       "      <th>0</th>\n",
       "      <td>PSY3</td>\n",
       "      <td>CA.PGAv.1.6.scaffold1681.17</td>\n",
       "      <td>CABG</td>\n",
       "    </tr>\n",
       "    <tr>\n",
       "      <th>1</th>\n",
       "      <td>PSY2</td>\n",
       "      <td>CA.PGAv.1.6.scaffold158.13</td>\n",
       "      <td>CABG</td>\n",
       "    </tr>\n",
       "    <tr>\n",
       "      <th>2</th>\n",
       "      <td>PSY1</td>\n",
       "      <td>CA.PGAv.1.6.scaffold404.3</td>\n",
       "      <td>CABG</td>\n",
       "    </tr>\n",
       "    <tr>\n",
       "      <th>3</th>\n",
       "      <td>PDS</td>\n",
       "      <td>CA.PGAv.1.6.scaffold790.47</td>\n",
       "      <td>CABG</td>\n",
       "    </tr>\n",
       "    <tr>\n",
       "      <th>4</th>\n",
       "      <td>Z-ISO</td>\n",
       "      <td>CA.PGAv.1.6.scaffold484.128</td>\n",
       "      <td>CABG</td>\n",
       "    </tr>\n",
       "    <tr>\n",
       "      <th>...</th>\n",
       "      <td>...</td>\n",
       "      <td>...</td>\n",
       "      <td>...</td>\n",
       "    </tr>\n",
       "    <tr>\n",
       "      <th>277</th>\n",
       "      <td>CA.PGAv.1.6.scaffold1456.13</td>\n",
       "      <td>CA.PGAv.1.6.scaffold1456.13</td>\n",
       "      <td>MYB</td>\n",
       "    </tr>\n",
       "    <tr>\n",
       "      <th>278</th>\n",
       "      <td>CA.PGAv.1.6.scaffold484.53</td>\n",
       "      <td>CA.PGAv.1.6.scaffold484.53</td>\n",
       "      <td>MYB</td>\n",
       "    </tr>\n",
       "    <tr>\n",
       "      <th>279</th>\n",
       "      <td>CA.PGAv.1.6.scaffold2204.3</td>\n",
       "      <td>CA.PGAv.1.6.scaffold2204.3</td>\n",
       "      <td>MYB</td>\n",
       "    </tr>\n",
       "    <tr>\n",
       "      <th>280</th>\n",
       "      <td>CA.PGAv.1.6.scaffold805.5</td>\n",
       "      <td>CA.PGAv.1.6.scaffold805.5</td>\n",
       "      <td>MYB</td>\n",
       "    </tr>\n",
       "    <tr>\n",
       "      <th>281</th>\n",
       "      <td>CA.PGAv.1.6.scaffold78.120</td>\n",
       "      <td>CA.PGAv.1.6.scaffold78.120</td>\n",
       "      <td>MYB</td>\n",
       "    </tr>\n",
       "  </tbody>\n",
       "</table>\n",
       "<p>282 rows × 3 columns</p>\n",
       "</div>"
      ],
      "text/plain": [
       "                            name                           id  type\n",
       "0                           PSY3  CA.PGAv.1.6.scaffold1681.17  CABG\n",
       "1                           PSY2   CA.PGAv.1.6.scaffold158.13  CABG\n",
       "2                           PSY1    CA.PGAv.1.6.scaffold404.3  CABG\n",
       "3                            PDS   CA.PGAv.1.6.scaffold790.47  CABG\n",
       "4                          Z-ISO  CA.PGAv.1.6.scaffold484.128  CABG\n",
       "..                           ...                          ...   ...\n",
       "277  CA.PGAv.1.6.scaffold1456.13  CA.PGAv.1.6.scaffold1456.13   MYB\n",
       "278   CA.PGAv.1.6.scaffold484.53   CA.PGAv.1.6.scaffold484.53   MYB\n",
       "279   CA.PGAv.1.6.scaffold2204.3   CA.PGAv.1.6.scaffold2204.3   MYB\n",
       "280    CA.PGAv.1.6.scaffold805.5    CA.PGAv.1.6.scaffold805.5   MYB\n",
       "281   CA.PGAv.1.6.scaffold78.120   CA.PGAv.1.6.scaffold78.120   MYB\n",
       "\n",
       "[282 rows x 3 columns]"
      ]
     },
     "execution_count": 34,
     "metadata": {},
     "output_type": "execute_result"
    }
   ],
   "source": [
    "df"
   ]
  },
  {
   "cell_type": "code",
   "execution_count": 37,
   "id": "be9e32b1-0356-46b3-920a-9a26502a3806",
   "metadata": {},
   "outputs": [],
   "source": [
    "for idx in df.index:\n",
    "    if df.loc[idx, \"name\"] in idf:\n",
    "        df.loc[idx, \"name\"] = idf[df.loc[idx, \"name\"]]"
   ]
  },
  {
   "cell_type": "code",
   "execution_count": 38,
   "id": "87ea0a64-7625-4c55-a188-2da22c59bb14",
   "metadata": {},
   "outputs": [
    {
     "data": {
      "text/html": [
       "<div>\n",
       "<style scoped>\n",
       "    .dataframe tbody tr th:only-of-type {\n",
       "        vertical-align: middle;\n",
       "    }\n",
       "\n",
       "    .dataframe tbody tr th {\n",
       "        vertical-align: top;\n",
       "    }\n",
       "\n",
       "    .dataframe thead th {\n",
       "        text-align: right;\n",
       "    }\n",
       "</style>\n",
       "<table border=\"1\" class=\"dataframe\">\n",
       "  <thead>\n",
       "    <tr style=\"text-align: right;\">\n",
       "      <th></th>\n",
       "      <th>name</th>\n",
       "      <th>id</th>\n",
       "      <th>type</th>\n",
       "    </tr>\n",
       "  </thead>\n",
       "  <tbody>\n",
       "    <tr>\n",
       "      <th>0</th>\n",
       "      <td>PSY3</td>\n",
       "      <td>CA.PGAv.1.6.scaffold1681.17</td>\n",
       "      <td>CABG</td>\n",
       "    </tr>\n",
       "    <tr>\n",
       "      <th>1</th>\n",
       "      <td>PSY2</td>\n",
       "      <td>CA.PGAv.1.6.scaffold158.13</td>\n",
       "      <td>CABG</td>\n",
       "    </tr>\n",
       "    <tr>\n",
       "      <th>2</th>\n",
       "      <td>PSY1</td>\n",
       "      <td>CA.PGAv.1.6.scaffold404.3</td>\n",
       "      <td>CABG</td>\n",
       "    </tr>\n",
       "    <tr>\n",
       "      <th>3</th>\n",
       "      <td>PDS</td>\n",
       "      <td>CA.PGAv.1.6.scaffold790.47</td>\n",
       "      <td>CABG</td>\n",
       "    </tr>\n",
       "    <tr>\n",
       "      <th>4</th>\n",
       "      <td>Z-ISO</td>\n",
       "      <td>CA.PGAv.1.6.scaffold484.128</td>\n",
       "      <td>CABG</td>\n",
       "    </tr>\n",
       "    <tr>\n",
       "      <th>...</th>\n",
       "      <td>...</td>\n",
       "      <td>...</td>\n",
       "      <td>...</td>\n",
       "    </tr>\n",
       "    <tr>\n",
       "      <th>277</th>\n",
       "      <td>CA.PGAv.1.6.scaffold1456.13</td>\n",
       "      <td>CA.PGAv.1.6.scaffold1456.13</td>\n",
       "      <td>MYB</td>\n",
       "    </tr>\n",
       "    <tr>\n",
       "      <th>278</th>\n",
       "      <td>CA.PGAv.1.6.scaffold484.53</td>\n",
       "      <td>CA.PGAv.1.6.scaffold484.53</td>\n",
       "      <td>MYB</td>\n",
       "    </tr>\n",
       "    <tr>\n",
       "      <th>279</th>\n",
       "      <td>CA.PGAv.1.6.scaffold2204.3</td>\n",
       "      <td>CA.PGAv.1.6.scaffold2204.3</td>\n",
       "      <td>MYB</td>\n",
       "    </tr>\n",
       "    <tr>\n",
       "      <th>280</th>\n",
       "      <td>CA.PGAv.1.6.scaffold805.5</td>\n",
       "      <td>CA.PGAv.1.6.scaffold805.5</td>\n",
       "      <td>MYB</td>\n",
       "    </tr>\n",
       "    <tr>\n",
       "      <th>281</th>\n",
       "      <td>CA.PGAv.1.6.scaffold78.120</td>\n",
       "      <td>CA.PGAv.1.6.scaffold78.120</td>\n",
       "      <td>MYB</td>\n",
       "    </tr>\n",
       "  </tbody>\n",
       "</table>\n",
       "<p>282 rows × 3 columns</p>\n",
       "</div>"
      ],
      "text/plain": [
       "                            name                           id  type\n",
       "0                           PSY3  CA.PGAv.1.6.scaffold1681.17  CABG\n",
       "1                           PSY2   CA.PGAv.1.6.scaffold158.13  CABG\n",
       "2                           PSY1    CA.PGAv.1.6.scaffold404.3  CABG\n",
       "3                            PDS   CA.PGAv.1.6.scaffold790.47  CABG\n",
       "4                          Z-ISO  CA.PGAv.1.6.scaffold484.128  CABG\n",
       "..                           ...                          ...   ...\n",
       "277  CA.PGAv.1.6.scaffold1456.13  CA.PGAv.1.6.scaffold1456.13   MYB\n",
       "278   CA.PGAv.1.6.scaffold484.53   CA.PGAv.1.6.scaffold484.53   MYB\n",
       "279   CA.PGAv.1.6.scaffold2204.3   CA.PGAv.1.6.scaffold2204.3   MYB\n",
       "280    CA.PGAv.1.6.scaffold805.5    CA.PGAv.1.6.scaffold805.5   MYB\n",
       "281   CA.PGAv.1.6.scaffold78.120   CA.PGAv.1.6.scaffold78.120   MYB\n",
       "\n",
       "[282 rows x 3 columns]"
      ]
     },
     "execution_count": 38,
     "metadata": {},
     "output_type": "execute_result"
    }
   ],
   "source": [
    "df"
   ]
  },
  {
   "cell_type": "code",
   "execution_count": 40,
   "id": "974bd0fa-caf0-407e-b76a-9e18699fe2c1",
   "metadata": {},
   "outputs": [
    {
     "data": {
      "text/plain": [
       "name                               CaMYB113\n",
       "id      CaCM334_MYB.PGAv.1.6.scaffold1368.1\n",
       "type                                    MYB\n",
       "Name: 200, dtype: object"
      ]
     },
     "execution_count": 40,
     "metadata": {},
     "output_type": "execute_result"
    }
   ],
   "source": [
    "df.loc[200, :]"
   ]
  },
  {
   "cell_type": "code",
   "execution_count": 41,
   "id": "6830ddc6-0099-47e9-8dee-9581f6333cd4",
   "metadata": {},
   "outputs": [],
   "source": [
    "df.to_csv(\"CABG_MYB.tsv\", sep = \"\\t\", index = False)"
   ]
  },
  {
   "cell_type": "code",
   "execution_count": null,
   "id": "357aa7d8-c24e-48ed-a62c-57fb42b906d3",
   "metadata": {},
   "outputs": [],
   "source": []
  }
 ],
 "metadata": {
  "kernelspec": {
   "display_name": "Python 3",
   "language": "python",
   "name": "python3"
  },
  "language_info": {
   "codemirror_mode": {
    "name": "ipython",
    "version": 3
   },
   "file_extension": ".py",
   "mimetype": "text/x-python",
   "name": "python",
   "nbconvert_exporter": "python",
   "pygments_lexer": "ipython3",
   "version": "3.9.5"
  }
 },
 "nbformat": 4,
 "nbformat_minor": 5
}
