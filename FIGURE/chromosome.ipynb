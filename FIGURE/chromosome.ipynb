{
 "cells": [
  {
   "cell_type": "code",
   "execution_count": 59,
   "id": "a303b31c-1347-4874-b013-346f54676ffe",
   "metadata": {},
   "outputs": [],
   "source": [
    "import sys\n",
    "import os\n",
    "import pandas as pd\n",
    "from reportlab.lib.units import cm\n",
    "from Bio.Graphics import BasicChromosome"
   ]
  },
  {
   "cell_type": "code",
   "execution_count": null,
   "id": "8dd9f3f4-b90f-41aa-a473-8b9572fff926",
   "metadata": {},
   "outputs": [],
   "source": []
  },
  {
   "cell_type": "code",
   "execution_count": 25,
   "id": "64f18ccb-8373-4f1a-8054-c35528775a71",
   "metadata": {},
   "outputs": [],
   "source": [
    "entries = [\n",
    "    (\"Chr 01\", 309102287),\n",
    "    (\"Chr 02\", 169555599),\n",
    "    (\"Chr 03\", 282780301),\n",
    "    (\"Chr 04\", 240120734),\n",
    "    (\"Chr 05\", 238597879),\n",
    "    (\"Chr 06\", 242241289),\n",
    "    (\"Chr 07\", 251293532),\n",
    "    (\"Chr 08\", 142366738),\n",
    "    (\"Chr 09\", 271082670),\n",
    "    (\"Chr 10\", 233321800),\n",
    "    (\"Chr 11\", 266870110),\n",
    "    (\"Chr 12\", 250929874),\n",
    "]"
   ]
  },
  {
   "cell_type": "code",
   "execution_count": 26,
   "id": "c7406ced-bae0-4f31-9009-4d6da445e659",
   "metadata": {},
   "outputs": [],
   "source": [
    "max_len = 309102287\n",
    "telomere_length = 10000000"
   ]
  },
  {
   "cell_type": "code",
   "execution_count": 54,
   "id": "214f6e37-6fc4-4aa6-a33b-b512d7c7a582",
   "metadata": {},
   "outputs": [],
   "source": [
    "chr_diagram = BasicChromosome.Organism()\n",
    "chr_diagram.page_size = (45 * cm, 15 * cm) "
   ]
  },
  {
   "cell_type": "code",
   "execution_count": null,
   "id": "7d06d3d3-d61b-4345-b12c-76ed1cfb9ff7",
   "metadata": {},
   "outputs": [],
   "source": [
    "f"
   ]
  },
  {
   "cell_type": "code",
   "execution_count": 55,
   "id": "bfe6d4ed-39c4-4fdd-9593-b1dc330149b1",
   "metadata": {},
   "outputs": [],
   "source": [
    "features = [(30910228, 30911228, -1, \"CCS\", \"red\")]"
   ]
  },
  {
   "cell_type": "code",
   "execution_count": 56,
   "id": "bf5c71a4-82c0-44b9-8892-434c4ce6697f",
   "metadata": {},
   "outputs": [],
   "source": [
    "for name, length in entries:\n",
    "    cur_chromosome = BasicChromosome.Chromosome(name)\n",
    "    cur_chromosome.scale_num = max_len + 2 * telomere_length\n",
    "\n",
    "    start = BasicChromosome.TelomereSegment()\n",
    "    start.scale = telomere_length\n",
    "    cur_chromosome.add(start)\n",
    "    \n",
    "    body = BasicChromosome.AnnotatedChromosomeSegment(length, features)\n",
    "    body.scale = length\n",
    "    cur_chromosome.add(body)\n",
    "\n",
    "    end = BasicChromosome.TelomereSegment(inverted=True)\n",
    "    end.scale = telomere_length\n",
    "    cur_chromosome.add(end)\n",
    "\n",
    "    chr_diagram.add(cur_chromosome)"
   ]
  },
  {
   "cell_type": "code",
   "execution_count": 57,
   "id": "8e7a2b8b-f8b6-47f5-97a9-a1352fc06ec2",
   "metadata": {},
   "outputs": [],
   "source": [
    "chr_diagram.draw(\"simple_chrom.pdf\", \"Capsicum annuum\")"
   ]
  },
  {
   "cell_type": "code",
   "execution_count": null,
   "id": "7293f6c0-e613-43ac-8b8b-470e9a9c045f",
   "metadata": {},
   "outputs": [],
   "source": []
  }
 ],
 "metadata": {
  "kernelspec": {
   "display_name": "Python 3",
   "language": "python",
   "name": "python3"
  },
  "language_info": {
   "codemirror_mode": {
    "name": "ipython",
    "version": 3
   },
   "file_extension": ".py",
   "mimetype": "text/x-python",
   "name": "python",
   "nbconvert_exporter": "python",
   "pygments_lexer": "ipython3",
   "version": "3.9.5"
  }
 },
 "nbformat": 4,
 "nbformat_minor": 5
}
