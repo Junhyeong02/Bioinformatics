{
 "cells": [
  {
   "cell_type": "code",
   "execution_count": 2,
   "id": "de1744d4-b030-4e78-8a64-730d154f7aa5",
   "metadata": {},
   "outputs": [],
   "source": [
    "import sys\n",
    "import os\n",
    "import numpy as np\n",
    "import pandas as pd"
   ]
  },
  {
   "cell_type": "code",
   "execution_count": 6,
   "id": "0308a86a-0f78-4540-9629-984e75e20d24",
   "metadata": {},
   "outputs": [],
   "source": [
    "path = \"source/CM334.tissue.avg.tsv\""
   ]
  },
  {
   "cell_type": "code",
   "execution_count": 7,
   "id": "400b3006-c410-4f56-8d94-d8997f02c055",
   "metadata": {},
   "outputs": [],
   "source": [
    "df = pd.read_csv(path, sep = \"\\t\", index_col = 0)"
   ]
  },
  {
   "cell_type": "code",
   "execution_count": 8,
   "id": "4e3e3fe9-c982-47ed-845b-28b0400604b0",
   "metadata": {},
   "outputs": [
    {
     "data": {
      "text/plain": [
       "Index(['RT-1', 'RT-2', 'RT-3', 'ST-1', 'ST-2', 'ST-3', 'LF-1', 'LF-2', 'LF-3',\n",
       "       'LF-4', 'FL-1', 'FL-2', 'PL1-1', 'PL1-2', 'PL1-3', 'PL2-1', 'PL2-2',\n",
       "       'PL2-3', 'PL3-1', 'PL3-2', 'PL3-3', 'PLMG-1', 'PLMG-2', 'PLMG-3',\n",
       "       'PLB-1', 'PLB-2', 'PLB-3', 'PLB5-1', 'PLB5-2', 'PLB5-3', 'PLB10-1',\n",
       "       'PLB10-2', 'PLB10-3', 'PR1-1', 'PR1-2', 'PR1-3', 'PR2-1', 'PR2-2',\n",
       "       'PR2-3', 'PR3-1', 'PR3-2', 'PR3-3', 'PRMG-1', 'PRMG-2', 'PRMG-3',\n",
       "       'PRB-1', 'PRB-2', 'PRB-3', 'PRB5-1', 'PRB5-2', 'PRB5-3', 'PRB10-1',\n",
       "       'PRB10-2', 'PRB10-3'],\n",
       "      dtype='object')"
      ]
     },
     "execution_count": 8,
     "metadata": {},
     "output_type": "execute_result"
    }
   ],
   "source": [
    "df.columns"
   ]
  },
  {
   "cell_type": "code",
   "execution_count": 9,
   "id": "e5b5d9b0-c639-4d55-bbd5-539fc821d78f",
   "metadata": {},
   "outputs": [],
   "source": [
    "col = [\"RT\", \"ST\", \"LF\", \"FL\", \"PL1\", \"PL2\", \"PL3\", \"PLMG\", \"PLB\", \"PLB5\", \"PLB10\", \"PR1\", \"PR2\", \"PR3\", \"PRMG\", \"PRB\", \"PRB5\", \"PRB10\"]"
   ]
  },
  {
   "cell_type": "code",
   "execution_count": 10,
   "id": "2827d07a-11d0-4408-9f7b-53cff81a7d04",
   "metadata": {},
   "outputs": [],
   "source": [
    "for c in col:\n",
    "    temp = []\n",
    "    for idx in df.index:\n",
    "        if c == \"LF\":\n",
    "            temp.append(np.mean([df.loc[idx, c + f\"-{i}\"] for i in range(2, 5)]))\n",
    "            \n",
    "        elif c == \"FL\":\n",
    "            temp.append(np.mean([df.loc[idx, c + f\"-{i}\"] for i in range(1, 3)]))\n",
    "\n",
    "        else:\n",
    "            temp.append(np.mean([df.loc[idx, c + f\"-{i}\"] for i in range(1, 4)]))\n",
    "    df[c] = temp"
   ]
  },
  {
   "cell_type": "code",
   "execution_count": 14,
   "id": "930f601f-d874-484f-9457-aa03d27fac7d",
   "metadata": {},
   "outputs": [],
   "source": [
    "df.drop([\"LF-1\"], axis = 1, inplace = True)"
   ]
  },
  {
   "cell_type": "code",
   "execution_count": 15,
   "id": "a66ced88-69fc-4b22-a76e-c41b6974de6f",
   "metadata": {},
   "outputs": [
    {
     "data": {
      "text/plain": [
       "Index(['RT-1', 'RT-2', 'RT-3', 'ST-1', 'ST-2', 'ST-3', 'LF-2', 'LF-3', 'LF-4',\n",
       "       'FL-1', 'FL-2', 'PL1-1', 'PL1-2', 'PL1-3', 'PL2-1', 'PL2-2', 'PL2-3',\n",
       "       'PL3-1', 'PL3-2', 'PL3-3', 'PLMG-1', 'PLMG-2', 'PLMG-3', 'PLB-1',\n",
       "       'PLB-2', 'PLB-3', 'PLB5-1', 'PLB5-2', 'PLB5-3', 'PLB10-1', 'PLB10-2',\n",
       "       'PLB10-3', 'PR1-1', 'PR1-2', 'PR1-3', 'PR2-1', 'PR2-2', 'PR2-3',\n",
       "       'PR3-1', 'PR3-2', 'PR3-3', 'PRMG-1', 'PRMG-2', 'PRMG-3', 'PRB-1',\n",
       "       'PRB-2', 'PRB-3', 'PRB5-1', 'PRB5-2', 'PRB5-3', 'PRB10-1', 'PRB10-2',\n",
       "       'PRB10-3', 'RT', 'ST', 'LF', 'FL', 'PL1', 'PL2', 'PL3', 'PLMG', 'PLB',\n",
       "       'PLB5', 'PLB10', 'PR1', 'PR2', 'PR3', 'PRMG', 'PRB', 'PRB5', 'PRB10'],\n",
       "      dtype='object')"
      ]
     },
     "execution_count": 15,
     "metadata": {},
     "output_type": "execute_result"
    }
   ],
   "source": [
    "df.columns"
   ]
  },
  {
   "cell_type": "code",
   "execution_count": 17,
   "id": "27d8dada-247c-47cc-8b71-ac60e52cf404",
   "metadata": {},
   "outputs": [],
   "source": [
    "df.to_csv(path, sep = \"\\t\")"
   ]
  },
  {
   "cell_type": "code",
   "execution_count": null,
   "id": "1a2b5866-e896-419a-ad44-1327be2b3695",
   "metadata": {},
   "outputs": [],
   "source": []
  }
 ],
 "metadata": {
  "kernelspec": {
   "display_name": "Python 3",
   "language": "python",
   "name": "python3"
  },
  "language_info": {
   "codemirror_mode": {
    "name": "ipython",
    "version": 3
   },
   "file_extension": ".py",
   "mimetype": "text/x-python",
   "name": "python",
   "nbconvert_exporter": "python",
   "pygments_lexer": "ipython3",
   "version": "3.9.5"
  }
 },
 "nbformat": 4,
 "nbformat_minor": 5
}
