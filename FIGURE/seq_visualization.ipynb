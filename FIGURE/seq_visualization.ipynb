{
 "cells": [
  {
   "cell_type": "code",
   "execution_count": 1,
   "id": "118a6d6a-2bdc-4348-969d-0dff8adbe2d2",
   "metadata": {},
   "outputs": [],
   "source": [
    "import sys\n",
    "import os\n",
    "from Bio import SeqIO"
   ]
  },
  {
   "cell_type": "code",
   "execution_count": 13,
   "id": "64c7c0be-9e17-4b62-a197-8ffbeaa7c7ba",
   "metadata": {},
   "outputs": [],
   "source": [
    "path = \"../data/CaPRR2_align.fas\""
   ]
  },
  {
   "cell_type": "code",
   "execution_count": 32,
   "id": "79f7527f-fa58-46c0-8723-13961463c46e",
   "metadata": {},
   "outputs": [],
   "source": [
    "records = SeqIO.parse(path, \"fasta\")"
   ]
  },
  {
   "cell_type": "code",
   "execution_count": 33,
   "id": "a173ebf1-423e-40e9-8dff-dab2e4b4eb19",
   "metadata": {},
   "outputs": [],
   "source": [
    "reco = list(records)"
   ]
  },
  {
   "cell_type": "code",
   "execution_count": 34,
   "id": "51fcd339-ad31-4bc8-9a22-73634ca330de",
   "metadata": {},
   "outputs": [],
   "source": [
    "id_list = []\n",
    "seq_list = []"
   ]
  },
  {
   "cell_type": "code",
   "execution_count": 35,
   "id": "e269ec20-4eb0-4356-bf84-9e52b1530a87",
   "metadata": {},
   "outputs": [],
   "source": [
    "for record in reco:\n",
    "    id_list.append(\"%-35s\" % record.id)\n",
    "    seq_list.append(str(record.seq))"
   ]
  },
  {
   "cell_type": "code",
   "execution_count": 36,
   "id": "ab8e405a-b361-4a26-b820-46e72c594859",
   "metadata": {},
   "outputs": [],
   "source": [
    "def divide_by_ten(st):\n",
    "    temp = []\n",
    "    cnt = 10\n",
    "    for c in st:\n",
    "        if cnt == 10:\n",
    "            temp.append('')\n",
    "            cnt = 0\n",
    "        \n",
    "        temp[-1] += c\n",
    "        cnt += 1\n",
    "    \n",
    "    return temp"
   ]
  },
  {
   "cell_type": "code",
   "execution_count": 37,
   "id": "9f932476-1eac-4366-aede-bb0bcbf455eb",
   "metadata": {},
   "outputs": [],
   "source": [
    "def cat_by_five(slist):\n",
    "    temp = []\n",
    "    cnt = 12\n",
    "    for seq in slist:\n",
    "        if cnt == 12:\n",
    "            temp.append('')\n",
    "            cnt = 0\n",
    "        \n",
    "        temp[-1] += seq + \" \"\n",
    "        cnt += 1\n",
    "    \n",
    "    return temp\n",
    "        "
   ]
  },
  {
   "cell_type": "code",
   "execution_count": 38,
   "id": "f8b471fa-ed8b-4578-9b92-db54715d3523",
   "metadata": {},
   "outputs": [],
   "source": [
    "id_gene = dict()\n",
    "generator_list = []\n",
    "out = ''"
   ]
  },
  {
   "cell_type": "code",
   "execution_count": 39,
   "id": "34a16f87-7c3e-4463-b03a-7460ad1cfa49",
   "metadata": {},
   "outputs": [],
   "source": [
    "for i, seq in zip(id_list, seq_list):\n",
    "    id_gene[i] = cat_by_five(divide_by_ten(seq))"
   ]
  },
  {
   "cell_type": "code",
   "execution_count": 40,
   "id": "687571ca-b466-4bc9-b950-a6524af71ef0",
   "metadata": {
    "tags": []
   },
   "outputs": [],
   "source": [
    "for i in range(max(len(val) for val in id_gene.values())):\n",
    "    for ID in sorted(id_list):\n",
    "        out += ID + id_gene[ID][i] + \"\\n\"\n",
    "        \n",
    "    out += \"\\n\\n\\n\\n\""
   ]
  },
  {
   "cell_type": "code",
   "execution_count": 41,
   "id": "7ad3646d-b7f9-4c42-8612-eda172418a0a",
   "metadata": {
    "tags": []
   },
   "outputs": [
    {
     "name": "stdout",
     "output_type": "stream",
     "text": [
      "CB_MYB.CBv1.2.scaffold966.1        MICIEDELLG WKDFPKGLKV LLLDEDSNSA AEMKSRLEKM DYIVYTFCNE SEALSAISSK SEGFHVAIVE VSAGDNDGVL QFLESAKNLP TIMTSNIHSL STMMKCIALG AVEFLQKPLS \n",
      "CC_MYB.CCv1.2.scaffold227.2        MICIEDELLG WKDFPKGLKV LLLDEDSNSA AEMKSRLEKM DYIVYTFCNE SEALSAISSK SEGFHVAIVE VSAGDNDGVL QFLESAKNLP TIMTSNIHSL STMMKCIALG AVEFLQKPLS \n",
      "CaCM334_MYB.PGAv.1.6.scaffold799.1 MICIEDELLG WKDFPKGLKV LLLDEDSNSA AEMKSRLEKM DYIVYTFCNE SEALSAISSK SEGFHVAIVE VSAGDNDGVL QFLESAKNLP TIMTSNIHSL STMMKCIALG AVEFLQKPLS \n",
      "CaChil_MYB.Chr01.6                 MICIEDELLG WKDFPKGLKV LLLDEDSSSA AEMKSRLEKM DYIVYTFCNE SEALSAISSK SEGFHVAIVE VSAGDNDGVL QFLESAKNLP TIMTSNIHSL STMMKCIALG AVEFLQKPLS \n",
      "CaECW_MYB.scaffold1549777.1        MICIEDELLG WKDFPKGLKV LLLDEDSSSA AEMKSRLEKM DYIVYTFCNE SEALSAISSK SEGFHVAIVE VSAGDNDGVL QFLESAKNLP TIMTSNIHSL STMMKCIALG AVEFLQKPLS \n",
      "CaSF_MYB.scaffold613.1             MICIEDELLG WKDFPKGLKV LLLDEDSNSA AEMKSRLEKM DYIVYTFCNE SEALSAISSK SEGFHVAIVE VSAGDNDGVL QFLESAKNLP TIMTSNIHSL STMMKCIALG AVEFLQKPLS \n",
      "CaZunla-1_MYB.Chr01.6              MICIEDELLG WKDFPKGLKV LLLDEDSNSA AEMKSRLEKM DYIVYTFCNE SEALSAISSK SEGFHVAIVE VSAGDNDGVL QFLESAKNLP TIMTSNIHSL STMMKCIALG AVEFLQKPLS \n",
      "RefSeq_CaZunla-1_MYB.NC            MICIEDELLG WKDFPKGLKV LLLDEDSNSA AEMKSRLEKM DYIVYTFCNE SEALSAISSK SEGFHVAIVE VSAGDNDGVL QFLESAKNLP TIMTSNIHSL STMMKCIALG AVEFLQKPLS \n",
      "\n",
      "\n",
      "\n",
      "\n",
      "CB_MYB.CBv1.2.scaffold966.1        DDKLKNIWQH VVHKAFNARK DVSGPLEPVK ESLLSMLQLQ PEKGEPDDQS SNGTEPLIAV ADNNTEQLSG CDKYPAPSTP QLKQGVRSVD DSDCHDHTIF STDQDSGEHD GDTKSVETTY \n",
      "CC_MYB.CCv1.2.scaffold227.2        DDKLKNIWQH VVHKAFNARK DVSGPLEPVK ESLLSMLQLQ PEKGEPDDKS SNGTEPLIAV ADNNTEQSSG CDKYPAPSTP QLKQGVRSVD DSDCHDHTIF SADQDSGEHD GDTKSVETTY \n",
      "CaCM334_MYB.PGAv.1.6.scaffold799.1 DDKLKNIWQH VVHKAFNTRK DVSGPLEPVK ESLLSMLQLQ PEKGEPDDKS SNGTEPLIAV ADNNTEQSSG CDKYPAPSTP QLKQGVRSVD DSDCHDHTIF STDQDNGEHD GDTKSVETTY \n",
      "CaChil_MYB.Chr01.6                 DDKLKNIWQH VVHKAFNARK DVSGPLEPVK ESLLSMLQLQ PEKGEPDDKS SNGTEPLIAV ADNNTEQSSG CDKYPAPSTP QLKQGVRSVD DSDCHDHTIF STDQDNGEHD GDTKSVETTY \n",
      "CaECW_MYB.scaffold1549777.1        DDKLKNIWQH VVHKAFNARK DVSGPLEPVK ESLLSMLQLQ PEKGEPDDKS SNGTEPLIAV ADNNTEQSSG CDKYPAPSTP QLKQGVRSVD DSDCHDHTIF STDQDNGEHD GDTKSVETTY \n",
      "CaSF_MYB.scaffold613.1             DDKLKNIWQH VVHKAFNARK DVSGPLEPVK ESLLSMLQLQ PEKGEPDDKS SNGTEPLIAV ADNNTEQSSG CDKYPAPSTP QLKQGVRSVD DSDCHDHTIF STDQDNGEHD GDTKSVETTY \n",
      "CaZunla-1_MYB.Chr01.6              DDKLKNIWQH VVHKAFNTRK DVSGPLEPVK ESLLSMLQLQ PEKGEPDDKS SNGTEPLIAV ADNNTEQSSG CDKYPAPSTP QLKQGVRSVD DSDCHDHTIF STDQDNGEHD GDTKSVETTY \n",
      "RefSeq_CaZunla-1_MYB.NC            DDKLKNIWQH VVHKAFNTRK DVSGPLEPVK ESLLSMLQLQ PEKGEPDDKS SNGTEPLIAV ADNNTEQSSG CDKYPAPSTP QLKQGVRSVD DSDCHDHTIF STDQDNGEHD GDTKSVETTY \n",
      "\n",
      "\n",
      "\n",
      "\n",
      "CB_MYB.CBv1.2.scaffold966.1        NNSLAENTVQ ISPPEQQEDI ILKEENGSSP HQNMEADIAT FSQTNDCADN SDGSSPHQKT EADIATTSSQ SKDCPDNSIS HSAEPSKASG PHSSSGTKSN KKKVKVDWTP ELHKKFVQAV \n",
      "CC_MYB.CCv1.2.scaffold227.2        NNSLAENTVQ ISPPGQQEDI ILKEENGSSP HQTMEADIAT FSQINDCADN SDGSSPHQKT EADIATTSSQ SKDCPDNSIS HSAEPSKASG PHSSSGTKSN KKKVKVDWTP ELHKKFVQAV \n",
      "CaCM334_MYB.PGAv.1.6.scaffold799.1 NNSLAENTVQ ISPPGQQQDI ILKEENGSSP HQTMEADIAT FSQINDCADN SDGSSPHQKT EADIATTSSQ SKDCPDNSIS HSAEPSKASG PHSSSGTKSN KKKVKVDWTP ELHKKFVQAV \n",
      "CaChil_MYB.Chr01.6                 NNSLAENTVQ ISPPGQQEDI ILKEENGSSP HQTMEADIAT FSQINDCADN SDGSSPHQKT EADIATTSSQ SKDCPDNSIS HSAEPSKASG PHSSSGTKSN KKKVKVDWTP ELHKKFVQAV \n",
      "CaECW_MYB.scaffold1549777.1        NNSLAENTVQ ISPPGQQEDI ILKEENGSSP HQTMEADIAT FSQINDCADN SDGSSPHQKT EADIATTSSQ SKDCPDNSIS HSAEPSKASG PHSSSGTKSN KKKVKVDWTP ELHKKFVQAV \n",
      "CaSF_MYB.scaffold613.1             NNSLAENTVQ ISPPGQQEDI ILKEENGSSP HQTMEADIAT FSQINDCADN SDGSSPHQKT EADIATTSSQ SKDCPDNSIS HSAEPSKASG PHSSSGTKSN KKKVKVDWTP ELHKKFVQAV \n",
      "CaZunla-1_MYB.Chr01.6              NNSLAENTVQ ISPPGQQQDI ILKEENGSSP HQTMEADIAT FSQINDCADN SDGSSPHQKT EADIATTSSQ SKDCPD---- -----SKASG PHSSSGTKSN KKKVKVDWTP ELHKKFVQAV \n",
      "RefSeq_CaZunla-1_MYB.NC            NNSLAENTVQ ISPPGQQQDI ILKEENGSSP HQTMEADIAT FSQINDCADN SDGSSPHQKT EADIATTSSQ SKDCPD---- -----SKASG PHSSSGTKSN KKKVKVDWTP ELHKKFVQAV \n",
      "\n",
      "\n",
      "\n",
      "\n",
      "CB_MYB.CBv1.2.scaffold966.1        EQLGIDQAIP SRILDVMKVE GLTRHNIASH LQKYRMHRRQ ILPREVERRW PHPQPRDSVQ RNYYPHKPVM TFPPYHSNHV APAGQCYPAW VPPASYPNGL QVWGSPYYPG WQPAETWHWK \n",
      "CC_MYB.CCv1.2.scaffold227.2        EQLGIDQAIP SRILDVMKVE GLTRHNIASH LQKYRMHRRQ ILPREVERRW PHPQPRDSVQ RNYYPHKPVM TFPPYHSNHV APAGQCYPAW VPPASYPNGL QVWGSPYYPG WQPAETWHWK \n",
      "CaCM334_MYB.PGAv.1.6.scaffold799.1 EQLGIDQAIP SRILDVMKVE GLTRHNIASH LQKYRMHRRQ ILPREVERRW PHPQPRDSVQ RNYYPHKPVM TFPPYHSNHV APAGQCYPAW VPPASYPNGL QVWGSPYYPG WQPAETWHWK \n",
      "CaChil_MYB.Chr01.6                 EQLGIDQAIP SRILDVMKVE GLTRHNIASH LQKYRMHRRQ ILPREVERRW PHPQPRDSVQ RNYYPHKPVM TFPPYHSNHV APAGQCYPAW VPPASYPNGL QVWGSPYYPG WQPAETWHWK \n",
      "CaECW_MYB.scaffold1549777.1        EQLGIDQAIP SRILDVMKVE GLTRHNIASH LQKYRMHRRQ ILPREVERRW PHPQPRDSVQ RNYYPHKPVM TFPPYHSNHV APAGQCYPAW VPPASYPNGL QVWGSPYYPG WQPAETWHWK \n",
      "CaSF_MYB.scaffold613.1             EQLGIDQAIP SRILDVMKVE GLTRHNIASH LQKYRMHRRQ ILPREVERRW PHPQPRDSVQ RNYYPHKPVM TFPPYHSNHV APAGQCYPAW VPPASYPNGL QVWGSPYYPG WQPAETWHWK \n",
      "CaZunla-1_MYB.Chr01.6              EQLGIDQAIP SRILDVMKVE GLTRHNIASH LQKYRMHRRQ ILPREVERRW PHPQPRDSVQ RNYYPHKPVM TFPPYHSNHV APAGQCYPAW VPPASYPNGL QVWGSPYYPG WQPAETWHWK \n",
      "RefSeq_CaZunla-1_MYB.NC            EQLGIDQAIP SRILDVMKVE GLTRHNIASH LQKYRMHRRQ ILPREVERRW PHPQPRDSVQ RNYYPHKPVM TFPPYHSNHV APAGQCYPAW VPPASYPNGL QVWGSPYYPG WQPAETWHWK \n",
      "\n",
      "\n",
      "\n",
      "\n",
      "CB_MYB.CBv1.2.scaffold966.1        PHPGLLADTW GSPVMPPSFG SYPPYPQNAG MYQPHGMHNR YSMLEKSFDV HPAEEVIDKV VKEAITKPWL PLPLGLKPPS MEGVLDELSR QGISTVPPRI NGSRCWR* \n",
      "CC_MYB.CCv1.2.scaffold227.2        PHPGLLADTW GSPVMPPSFG SYPPYPQNAG MYQSHGMHNR YSMLEKSFDV HPAEEVIDKV VKEAITKPWL PLPLGLKPPS MEGVLDELSR QGISTVPPRI NGSRCWR* \n",
      "CaCM334_MYB.PGAv.1.6.scaffold799.1 PHPGLLADTW GSPVMPPSFG SYPPYPQNAG MYQSHGMHNR YSMLEKSFDV HPAEEVIDKV VKEAITKPWL PLPLGLKPPS MEGVLDELSR QGISTVPPRI NGSRCWR* \n",
      "CaChil_MYB.Chr01.6                 PHPGLLADTW GSPVMPPSFG SYPPYPQNAG MYQSHGMHNR YSMLEKSFDV HPAEEVIDKV VKEAITKPWL PLPLGLKPPS MEGVLDELSR QGISTVPPRI NGSRCWR* \n",
      "CaECW_MYB.scaffold1549777.1        PHPGLLADTW GSPVMPPSFG SYPPYPQNAG MYQSHGMHNR YSMLEKSFDV HPAEEVIDKV VKEAITKPWL PLPLGLKPPS MEGVLDELSR QGISTVPPRI NGSRCWR* \n",
      "CaSF_MYB.scaffold613.1             PHPGLLADTW GSPVMPPSFG SYPPYPQNAG MYQSHGMHNR YSMLEKSFDV HPAEEVIDKV VKEAITKPWL PLPLGLKPPS MEGVLDELSR QGISTVPPRI NGSRCWR* \n",
      "CaZunla-1_MYB.Chr01.6              PHPGLLADTW GSPVMPPSFG SYPPYPQNAG MYQSHGMHNR YSMLEKSFDV HPAEEVIDKV VKEAITKPWL PLPLGLKPPS MEGVLDELSR QGISTVPARI NGSRCWR* \n",
      "RefSeq_CaZunla-1_MYB.NC            PHPGLLADTW GSPVMPPSFG SYPPYPQNAG MYQSHGMHNR YSMLEKSFDV HPAEEVIDKV VKEAITKPWL PLPLGLKPPS MEGVLDELSR QGISTVPARI NGSRCWR* \n",
      "\n",
      "\n",
      "\n",
      "\n",
      "\n"
     ]
    }
   ],
   "source": [
    "print(out)"
   ]
  },
  {
   "cell_type": "code",
   "execution_count": 35,
   "id": "48438543-2a59-46f5-942e-7e1d8363f621",
   "metadata": {},
   "outputs": [],
   "source": [
    "# from reportlab.pdfgen import canvas"
   ]
  },
  {
   "cell_type": "code",
   "execution_count": 36,
   "id": "b97aed30-eced-4d98-8410-6f19acb67a46",
   "metadata": {},
   "outputs": [],
   "source": [
    "# c = canvas.Canvas(\"hello.pdf\")\n",
    "# c.drawString(100,750,out)\n",
    "# c.save()"
   ]
  },
  {
   "cell_type": "code",
   "execution_count": null,
   "id": "436b6c80-0070-45cd-b032-bbc293d248a9",
   "metadata": {},
   "outputs": [],
   "source": []
  }
 ],
 "metadata": {
  "kernelspec": {
   "display_name": "Python 3",
   "language": "python",
   "name": "python3"
  },
  "language_info": {
   "codemirror_mode": {
    "name": "ipython",
    "version": 3
   },
   "file_extension": ".py",
   "mimetype": "text/x-python",
   "name": "python",
   "nbconvert_exporter": "python",
   "pygments_lexer": "ipython3",
   "version": "3.9.5"
  }
 },
 "nbformat": 4,
 "nbformat_minor": 5
}
