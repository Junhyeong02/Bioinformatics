{
 "cells": [
  {
   "cell_type": "code",
   "execution_count": 2,
   "id": "9fdf1ab5-3aea-45d9-9b61-e47da31b1f2e",
   "metadata": {},
   "outputs": [],
   "source": [
    "import numpy as np\n",
    "import pandas as pd\n",
    "import matplotlib.pyplot as plt\n",
    "import matplotlib.ticker as tick\n",
    "from matplotlib.patches import Polygon\n",
    "import seaborn as sns"
   ]
  },
  {
   "cell_type": "code",
   "execution_count": 3,
   "id": "c622e65d-57c9-4c79-a03d-02e09977d1b3",
   "metadata": {},
   "outputs": [],
   "source": [
    "from matplotlib import rcParams, rc\n",
    "rcParams['font.family'] = 'sans-serif'\n",
    "rcParams['font.sans-serif'] = ['Arial']\n",
    "rc('text', usetex = False)"
   ]
  },
  {
   "cell_type": "code",
   "execution_count": 16,
   "id": "7457aa47-8ce1-4922-bc30-f0daaafb3b83",
   "metadata": {},
   "outputs": [],
   "source": [
    "f = open(\"../../data/cis_element/CB_CCS.txt\")"
   ]
  },
  {
   "cell_type": "code",
   "execution_count": 17,
   "id": "cb15646f-690b-4901-bbdc-17d7e3411cdc",
   "metadata": {},
   "outputs": [],
   "source": [
    "s = f.readlines()"
   ]
  },
  {
   "cell_type": "code",
   "execution_count": 18,
   "id": "ffcaf7b8-1e35-4222-a86e-748af4c45cb7",
   "metadata": {},
   "outputs": [],
   "source": [
    "df = []"
   ]
  },
  {
   "cell_type": "code",
   "execution_count": 19,
   "id": "79f6c7fa-6be0-4aaf-a54a-d23d796d0aae",
   "metadata": {},
   "outputs": [
    {
     "data": {
      "text/plain": [
       "'ROOTMOTIFTAPOX1                 3 (-) ATATT                         S000098\\n'"
      ]
     },
     "execution_count": 19,
     "metadata": {},
     "output_type": "execute_result"
    }
   ],
   "source": [
    "s[0]"
   ]
  },
  {
   "cell_type": "code",
   "execution_count": 20,
   "id": "65aa13a3-f057-47f2-b57a-b66f65668b39",
   "metadata": {},
   "outputs": [],
   "source": [
    "for l in s:\n",
    "    data = l.split()\n",
    "    df.append(data[:-1])"
   ]
  },
  {
   "cell_type": "code",
   "execution_count": 21,
   "id": "ddaca3f3-cc89-4092-85dd-c4dbe2da273b",
   "metadata": {},
   "outputs": [],
   "source": [
    "df = pd.DataFrame(df)"
   ]
  },
  {
   "cell_type": "code",
   "execution_count": 22,
   "id": "1fd26dd4-e4a1-484d-bb6d-c61146dc4bfa",
   "metadata": {},
   "outputs": [],
   "source": [
    "df.columns = [\"name\", \"pos\", \"strand\", \"seq\"]"
   ]
  },
  {
   "cell_type": "code",
   "execution_count": 23,
   "id": "38dfeacd-ca47-4c61-9623-c08c1564c101",
   "metadata": {},
   "outputs": [],
   "source": [
    "MYB = [\"MYBPZM\", \"MYBCORE\", \"ARR1AT\"]"
   ]
  },
  {
   "cell_type": "code",
   "execution_count": 24,
   "id": "d1b8af8a-808c-4643-8965-72a705c7ed8f",
   "metadata": {},
   "outputs": [
    {
     "data": {
      "text/html": [
       "<div>\n",
       "<style scoped>\n",
       "    .dataframe tbody tr th:only-of-type {\n",
       "        vertical-align: middle;\n",
       "    }\n",
       "\n",
       "    .dataframe tbody tr th {\n",
       "        vertical-align: top;\n",
       "    }\n",
       "\n",
       "    .dataframe thead th {\n",
       "        text-align: right;\n",
       "    }\n",
       "</style>\n",
       "<table border=\"1\" class=\"dataframe\">\n",
       "  <thead>\n",
       "    <tr style=\"text-align: right;\">\n",
       "      <th></th>\n",
       "      <th>name</th>\n",
       "      <th>pos</th>\n",
       "      <th>strand</th>\n",
       "      <th>seq</th>\n",
       "    </tr>\n",
       "  </thead>\n",
       "  <tbody>\n",
       "    <tr>\n",
       "      <th>0</th>\n",
       "      <td>ROOTMOTIFTAPOX1</td>\n",
       "      <td>3</td>\n",
       "      <td>(-)</td>\n",
       "      <td>ATATT</td>\n",
       "    </tr>\n",
       "    <tr>\n",
       "      <th>1</th>\n",
       "      <td>ROOTMOTIFTAPOX1</td>\n",
       "      <td>4</td>\n",
       "      <td>(+)</td>\n",
       "      <td>ATATT</td>\n",
       "    </tr>\n",
       "    <tr>\n",
       "      <th>2</th>\n",
       "      <td>MYBPZM</td>\n",
       "      <td>13</td>\n",
       "      <td>(-)</td>\n",
       "      <td>CCWACC</td>\n",
       "    </tr>\n",
       "    <tr>\n",
       "      <th>3</th>\n",
       "      <td>SORLIP2AT</td>\n",
       "      <td>17</td>\n",
       "      <td>(+)</td>\n",
       "      <td>GGGCC</td>\n",
       "    </tr>\n",
       "    <tr>\n",
       "      <th>4</th>\n",
       "      <td>CAATBOX1</td>\n",
       "      <td>27</td>\n",
       "      <td>(+)</td>\n",
       "      <td>CAAT</td>\n",
       "    </tr>\n",
       "    <tr>\n",
       "      <th>...</th>\n",
       "      <td>...</td>\n",
       "      <td>...</td>\n",
       "      <td>...</td>\n",
       "      <td>...</td>\n",
       "    </tr>\n",
       "    <tr>\n",
       "      <th>401</th>\n",
       "      <td>GATABOX</td>\n",
       "      <td>1979</td>\n",
       "      <td>(-)</td>\n",
       "      <td>GATA</td>\n",
       "    </tr>\n",
       "    <tr>\n",
       "      <th>402</th>\n",
       "      <td>CAATBOX1</td>\n",
       "      <td>1982</td>\n",
       "      <td>(+)</td>\n",
       "      <td>CAAT</td>\n",
       "    </tr>\n",
       "    <tr>\n",
       "      <th>403</th>\n",
       "      <td>ARR1AT</td>\n",
       "      <td>1983</td>\n",
       "      <td>(-)</td>\n",
       "      <td>NGATT</td>\n",
       "    </tr>\n",
       "    <tr>\n",
       "      <th>404</th>\n",
       "      <td>GT1CONSENSUS</td>\n",
       "      <td>1991</td>\n",
       "      <td>(-)</td>\n",
       "      <td>GRWAAW</td>\n",
       "    </tr>\n",
       "    <tr>\n",
       "      <th>405</th>\n",
       "      <td>POLLEN1LELAT52</td>\n",
       "      <td>1993</td>\n",
       "      <td>(-)</td>\n",
       "      <td>AGAAA</td>\n",
       "    </tr>\n",
       "  </tbody>\n",
       "</table>\n",
       "<p>406 rows × 4 columns</p>\n",
       "</div>"
      ],
      "text/plain": [
       "                name   pos strand     seq\n",
       "0    ROOTMOTIFTAPOX1     3    (-)   ATATT\n",
       "1    ROOTMOTIFTAPOX1     4    (+)   ATATT\n",
       "2             MYBPZM    13    (-)  CCWACC\n",
       "3          SORLIP2AT    17    (+)   GGGCC\n",
       "4           CAATBOX1    27    (+)    CAAT\n",
       "..               ...   ...    ...     ...\n",
       "401          GATABOX  1979    (-)    GATA\n",
       "402         CAATBOX1  1982    (+)    CAAT\n",
       "403           ARR1AT  1983    (-)   NGATT\n",
       "404     GT1CONSENSUS  1991    (-)  GRWAAW\n",
       "405   POLLEN1LELAT52  1993    (-)   AGAAA\n",
       "\n",
       "[406 rows x 4 columns]"
      ]
     },
     "execution_count": 24,
     "metadata": {},
     "output_type": "execute_result"
    }
   ],
   "source": [
    "df"
   ]
  },
  {
   "cell_type": "code",
   "execution_count": 25,
   "id": "b9760d1a-8a31-4694-b218-2748b466291e",
   "metadata": {},
   "outputs": [],
   "source": [
    "pzm = df[df[\"name\"] == MYB[0]]\n",
    "core = df[df[\"name\"] == MYB[1]]\n",
    "arr = df[df[\"name\"] == MYB[2]]"
   ]
  },
  {
   "cell_type": "code",
   "execution_count": 26,
   "id": "813cdb7b-6748-4445-b27a-5ace1d3f6453",
   "metadata": {},
   "outputs": [
    {
     "data": {
      "text/html": [
       "<div>\n",
       "<style scoped>\n",
       "    .dataframe tbody tr th:only-of-type {\n",
       "        vertical-align: middle;\n",
       "    }\n",
       "\n",
       "    .dataframe tbody tr th {\n",
       "        vertical-align: top;\n",
       "    }\n",
       "\n",
       "    .dataframe thead th {\n",
       "        text-align: right;\n",
       "    }\n",
       "</style>\n",
       "<table border=\"1\" class=\"dataframe\">\n",
       "  <thead>\n",
       "    <tr style=\"text-align: right;\">\n",
       "      <th></th>\n",
       "      <th>name</th>\n",
       "      <th>pos</th>\n",
       "      <th>strand</th>\n",
       "      <th>seq</th>\n",
       "    </tr>\n",
       "  </thead>\n",
       "  <tbody>\n",
       "    <tr>\n",
       "      <th>35</th>\n",
       "      <td>MYBCORE</td>\n",
       "      <td>221</td>\n",
       "      <td>(+)</td>\n",
       "      <td>CNGTTR</td>\n",
       "    </tr>\n",
       "    <tr>\n",
       "      <th>192</th>\n",
       "      <td>MYBCORE</td>\n",
       "      <td>1014</td>\n",
       "      <td>(+)</td>\n",
       "      <td>CNGTTR</td>\n",
       "    </tr>\n",
       "    <tr>\n",
       "      <th>305</th>\n",
       "      <td>MYBCORE</td>\n",
       "      <td>1555</td>\n",
       "      <td>(+)</td>\n",
       "      <td>CNGTTR</td>\n",
       "    </tr>\n",
       "    <tr>\n",
       "      <th>358</th>\n",
       "      <td>MYBCORE</td>\n",
       "      <td>1808</td>\n",
       "      <td>(+)</td>\n",
       "      <td>CNGTTR</td>\n",
       "    </tr>\n",
       "  </tbody>\n",
       "</table>\n",
       "</div>"
      ],
      "text/plain": [
       "        name   pos strand     seq\n",
       "35   MYBCORE   221    (+)  CNGTTR\n",
       "192  MYBCORE  1014    (+)  CNGTTR\n",
       "305  MYBCORE  1555    (+)  CNGTTR\n",
       "358  MYBCORE  1808    (+)  CNGTTR"
      ]
     },
     "execution_count": 26,
     "metadata": {},
     "output_type": "execute_result"
    }
   ],
   "source": [
    "core"
   ]
  },
  {
   "cell_type": "code",
   "execution_count": 27,
   "id": "cdf0369f-16b9-415f-970b-af92a3135c16",
   "metadata": {},
   "outputs": [],
   "source": [
    "def drawTriangle(x, y, colors):\n",
    "    pts = np.array([(x, y), (x+25, y+0.1), (x-25, y+0.1)])\n",
    "    p = Polygon(pts, closed=False, fc = colors)\n",
    "    return p"
   ]
  },
  {
   "cell_type": "code",
   "execution_count": 28,
   "id": "466d1ad4-b247-4b2d-ab1a-31e798e103e8",
   "metadata": {},
   "outputs": [
    {
     "data": {
      "image/png": "[encoded data removed]",
      "text/plain": [
       "<Figure size 1440x72 with 1 Axes>"
      ]
     },
     "metadata": {
      "needs_background": "light"
     },
     "output_type": "display_data"
    }
   ],
   "source": [
    "plt.figure(figsize=(20, 1))\n",
    "\n",
    "plt.plot()\n",
    "plt.gca().spines['right'].set_visible(False)\n",
    "plt.gca().spines['top'].set_visible(False)\n",
    "# plt.gca().spines['bottom'].set_visible(False)\n",
    "plt.xlim(0, 2000)\n",
    "plt.ylim(-0.5,0)\n",
    "plt.gca().spines['left'].set_visible(False)\n",
    "plt.xticks([0, 500, 1000, 1500, 2000], [\"-2000\", \"-1500\", \"-1000\", \"-500\", \"0\"], fontsize = 20)\n",
    "plt.yticks(visible = False)\n",
    "plt.text(2030, -0.5, \"CCS\", fontsize = 20, verticalalignment = \"center\")\n",
    "ax = plt.gca()\n",
    "\"\"\"\n",
    "for idx in pzm.index:\n",
    "    x = int(pzm.loc[idx, \"pos\"])\n",
    "    plt.text(x, -0.35, x-2000, horizontalalignment='center')\n",
    "    ax.add_patch(drawTriangle(x, -0.5, \"red\"))\n",
    "\n",
    "for idx in core.index:\n",
    "    x = int(core.loc[idx, \"pos\"])\n",
    "    plt.text(x, -0.35, x- 2000, horizontalalignment='center')\n",
    "    ax.add_patch(drawTriangle(x, -0.5, \"blue\"))\n",
    "\"\"\"\n",
    "\n",
    "for idx in arr.index:\n",
    "    x = int(arr.loc[idx, \"pos\"])\n",
    "    plt.text(x, -0.35, x- 2000, horizontalalignment='center')\n",
    "    ax.add_patch(drawTriangle(x, -0.5, \"green\"))\n",
    "\n",
    "\n",
    "    \n",
    "    \n",
    "plt.text(1000, -0.1, \"Capsicum baccatum\", fontsize = 20, horizontalalignment = \"center\")\n",
    "\n",
    "# plt.savefig(\"CaChil.png\", bbox_inches = \"tight\")\n",
    "plt.show()"
   ]
  },
  {
   "cell_type": "code",
   "execution_count": null,
   "id": "1f3193d2-a219-4e9a-9b5e-78a8d937a88f",
   "metadata": {},
   "outputs": [],
   "source": []
  },
  {
   "cell_type": "code",
   "execution_count": null,
   "id": "b7038db5-ac40-40d6-a53e-6f90592ee3b4",
   "metadata": {},
   "outputs": [],
   "source": []
  }
 ],
 "metadata": {
  "kernelspec": {
   "display_name": "Python 3",
   "language": "python",
   "name": "python3"
  },
  "language_info": {
   "codemirror_mode": {
    "name": "ipython",
    "version": 3
   },
   "file_extension": ".py",
   "mimetype": "text/x-python",
   "name": "python",
   "nbconvert_exporter": "python",
   "pygments_lexer": "ipython3",
   "version": "3.9.5"
  }
 },
 "nbformat": 4,
 "nbformat_minor": 5
}
