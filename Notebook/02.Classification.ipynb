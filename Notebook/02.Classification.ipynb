{
 "cells": [
  {
   "cell_type": "code",
   "execution_count": 1,
   "id": "214ba026-8dc8-4e66-9387-cb23c5084cf5",
   "metadata": {},
   "outputs": [],
   "source": [
    "from glob import glob"
   ]
  },
  {
   "cell_type": "code",
   "execution_count": 2,
   "id": "c05364e3-a707-401d-a785-0196bdefc6b7",
   "metadata": {},
   "outputs": [],
   "source": [
    "tsvs = list(glob(\"../RESOURCE/Uniprot_MYB/*.tsv\"))"
   ]
  },
  {
   "cell_type": "code",
   "execution_count": 3,
   "id": "4627af92-847e-47bd-8b66-2d9447e65767",
   "metadata": {},
   "outputs": [
    {
     "data": {
      "text/plain": [
       "['../RESOURCE/Uniprot_MYB\\\\Uniprot_AmMYB.tsv',\n",
       " '../RESOURCE/Uniprot_MYB\\\\Uniprot_AtMYB.tsv',\n",
       " '../RESOURCE/Uniprot_MYB\\\\Uniprot_ZmMYB.tsv']"
      ]
     },
     "execution_count": 3,
     "metadata": {},
     "output_type": "execute_result"
    }
   ],
   "source": [
    "tsvs"
   ]
  },
  {
   "cell_type": "code",
   "execution_count": 4,
   "id": "2ecc726f-6c70-4f5f-b5ee-295ab40ef1b7",
   "metadata": {},
   "outputs": [],
   "source": [
    "R1 = open(\"../RESOURCE/Uniprot_MYB/uniprot.MYB_related.fa\", \"w\")\n",
    "R2 = open(\"../RESOURCE/Uniprot_MYB/uniprot.R2R3_MYB.fa\",\"w\")\n",
    "R3 = open(\"../RESOURCE/Uniprot_MYB/uniprot.3R_MYB.fa\",\"w\")\n",
    "R4 = open(\"../RESOURCE/Uniprot_MYB/uniprot.Atypical_MYB.fa\",\"w\")"
   ]
  },
  {
   "cell_type": "code",
   "execution_count": 5,
   "id": "0b458213-1cc6-4b20-b3a0-d6bd68e1de6d",
   "metadata": {},
   "outputs": [],
   "source": [
    "import numpy as np\n",
    "import pandas as pd"
   ]
  },
  {
   "cell_type": "code",
   "execution_count": null,
   "id": "a87ca926-a961-42b3-a0df-b0c458eed8da",
   "metadata": {},
   "outputs": [],
   "source": []
  },
  {
   "cell_type": "code",
   "execution_count": 6,
   "id": "6ae7c4a2-f0e9-48b2-bb0e-a6fda40129be",
   "metadata": {},
   "outputs": [],
   "source": [
    "for tsv in tsvs:\n",
    "    df = pd.read_csv(tsv, sep = \"\\t\", index_col = \"name\")\n",
    "    for idx in df.index:\n",
    "        sname = df.loc[idx, 'short name']\n",
    "        seq = df.loc[idx, 'Seqeunce']\n",
    "        # print(type(df.loc[idx, \"MYB match status\"]))\n",
    "        \n",
    "        if int(df.loc[idx, \"MYB match status\"]) == 1:\n",
    "            R1.write(f\">{sname}\\n{seq}\\n\")\n",
    "            \n",
    "        elif int(df.loc[idx, \"MYB match status\"]) == 2:\n",
    "            R2.write(f\">{sname}\\n{seq}\\n\")\n",
    "        \n",
    "        elif int(df.loc[idx, \"MYB match status\"]) == 3:\n",
    "            R3.write(f\">{sname}\\n{seq}\\n\")\n",
    "            \n",
    "        elif int(df.loc[idx, \"MYB match status\"]) == 4:\n",
    "            R4.write(f\">{sname}\\n{seq}\\n\")"
   ]
  },
  {
   "cell_type": "code",
   "execution_count": 7,
   "id": "10396932-4d6c-4e7d-8c87-b90174ace4d3",
   "metadata": {},
   "outputs": [],
   "source": [
    "R1.close()\n",
    "R2.close()\n",
    "R3.close()\n",
    "R4.close()"
   ]
  },
  {
   "cell_type": "markdown",
   "id": "65ce9242-7438-4a28-8044-9dc51b32b095",
   "metadata": {},
   "source": [
    "이 분류는 PF00249의 개수에 기반\n",
    "\n",
    "3R MYB으로 알려진 MYB이 R1에 있음을 발견\n",
    "\n",
    "Manual로 수정"
   ]
  },
  {
   "cell_type": "code",
   "execution_count": null,
   "id": "3bc73afb-d0a9-49c9-840b-f53f9ca467d6",
   "metadata": {},
   "outputs": [],
   "source": []
  }
 ],
 "metadata": {
  "kernelspec": {
   "display_name": "Python 3",
   "language": "python",
   "name": "python3"
  },
  "language_info": {
   "codemirror_mode": {
    "name": "ipython",
    "version": 3
   },
   "file_extension": ".py",
   "mimetype": "text/x-python",
   "name": "python",
   "nbconvert_exporter": "python",
   "pygments_lexer": "ipython3",
   "version": "3.9.5"
  }
 },
 "nbformat": 4,
 "nbformat_minor": 5
}
