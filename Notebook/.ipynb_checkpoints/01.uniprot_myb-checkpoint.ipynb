{
 "cells": [
  {
   "cell_type": "code",
   "execution_count": 11,
   "id": "672a5d94-d3bc-415b-834b-303e7b052620",
   "metadata": {},
   "outputs": [],
   "source": [
    "# path = \"../RESOURCE/Uniprot_MYB/uniprot-pf00249+reviewed_yes+organism__Arabidopsis+thaliana+(Mouse-ear+c--.xml\"\n",
    "# path = \"../RESOURCE/Uniprot_MYB/uniprot-pf00249+reviewed_yes+organism__Antirrhinum+majus+(Garden+snapdra--.xml\"\n",
    "path = \"../RESOURCE/Uniprot_MYB/uniprot-pf00249+reviewed_yes+organism__Zea+mays+(Maize)+[4577]_.xml\""
   ]
  },
  {
   "cell_type": "code",
   "execution_count": 12,
   "id": "1cd64517-fe94-4e98-a022-366bdba4a239",
   "metadata": {},
   "outputs": [],
   "source": [
    "import xml.etree.ElementTree as ET"
   ]
  },
  {
   "cell_type": "code",
   "execution_count": 13,
   "id": "8295454e-2b2b-4295-a478-63064f86b6b2",
   "metadata": {},
   "outputs": [],
   "source": [
    "namespaces = {\"base\": \"http://uniprot.org/uniprot\", \"xsi\":\"http://www.w3.org/2001/XMLSchema-instance\", \"xsi:schemaLocation\":\"http://uniprot.org/uniprot http://www.uniprot.org/support/docs/uniprot.xsd\"}"
   ]
  },
  {
   "cell_type": "code",
   "execution_count": 14,
   "id": "ac5c935c-02d5-4fbe-b210-9557d83f2483",
   "metadata": {},
   "outputs": [],
   "source": [
    "tree= ET.parse(path)"
   ]
  },
  {
   "cell_type": "code",
   "execution_count": 15,
   "id": "ecc1a05b-1040-478d-9004-99f400511e89",
   "metadata": {},
   "outputs": [],
   "source": [
    "root = tree.getroot()"
   ]
  },
  {
   "cell_type": "code",
   "execution_count": 16,
   "id": "9443cb30-ec74-4464-b825-df4be7b537b6",
   "metadata": {},
   "outputs": [
    {
     "name": "stdout",
     "output_type": "stream",
     "text": [
      "<Element '{http://uniprot.org/uniprot}uniprot' at 0x00000234C0408400>\n"
     ]
    }
   ],
   "source": [
    "print(root)"
   ]
  },
  {
   "cell_type": "code",
   "execution_count": 17,
   "id": "2d3f9a14-8eb3-4a26-9eae-9d77f1f0d2ed",
   "metadata": {},
   "outputs": [],
   "source": [
    "fw = open(\"../RESOURCE/Uniprot_MYB/Uniprot_ZmMYB.tsv\", \"w\")"
   ]
  },
  {
   "cell_type": "code",
   "execution_count": 18,
   "id": "108b365a-4e86-49f7-b647-864cca583530",
   "metadata": {},
   "outputs": [
    {
     "data": {
      "text/plain": [
       "116"
      ]
     },
     "execution_count": 18,
     "metadata": {},
     "output_type": "execute_result"
    }
   ],
   "source": [
    "fw.write(\"accession\\tname\\trecommended name\\tshort name\\torganism\\tPubMed\\tfunction\\tMYB match status\\tdomain\\tSeqeunce\\tevidence level\\n\")"
   ]
  },
  {
   "cell_type": "code",
   "execution_count": 19,
   "id": "16142355-0fdd-413b-8188-5ec51dbc052a",
   "metadata": {},
   "outputs": [
    {
     "name": "stdout",
     "output_type": "stream",
     "text": [
      "Controls the expression of genes involved in anthocyanin biosynthesis. Regulates the expression of at least 3 structural genes: chalcone synthase, dihydroflavonol reductase and flavonol O(3) glucosyltransferase. C1 acts as a trans-acting factor.\n",
      "\n",
      "Binds preferentially double-stranded telomeric repeats 5'-TTTAGGG-3', but can also bind to the single G-rich and C-rich telomeric strand.\n",
      "\n",
      "Binds preferentially double-stranded telomeric repeats, but may also bind to the single telomeric strand.\n",
      "\n",
      "Binds preferentially double-stranded telomeric repeats, but may also bind to the single telomeric strand.\n",
      "\n",
      "Binds preferentially double-stranded telomeric repeats, but may also bind to the single telomeric strand.\n",
      "\n",
      "Binds preferentially double-stranded telomeric repeats, but may also bind to the single telomeric strand.\n",
      "\n",
      "Binds preferentially double-stranded telomeric repeats, but may also bind to the single telomeric strand.\n",
      "\n",
      "Transcription factor postulated to regulate the biosynthetic pathway of a flavonoid-derived pigment in certain floral tissues.\n",
      "\n",
      "Transcription factor that regulates positively genes involved in anthocyanin biosynthesis such as A1.\n",
      "\n",
      "Transcription factor that regulates negatively genes involved in anthocyanin biosynthesis.\n",
      "\n"
     ]
    }
   ],
   "source": [
    "for entry in root.findall(\"base:entry\", namespaces):\n",
    "    accession = [acc.text for acc in entry.findall(\"base:accession\", namespaces)]\n",
    "    \n",
    "    name = entry.find(\"base:name\", namespaces).text\n",
    "    \n",
    "    try:\n",
    "        recomended_name = entry.find(\"base:protein\", namespaces).find(\"base:recommendedName\", namespaces).find(\"base:fullName\", namespaces).text\n",
    "        short_name = entry.find(\"base:protein//base:shortName\", namespaces).text\n",
    "    except AttributeError:\n",
    "        short_name = \"Zm\" + name.split(\"_\")[0]\n",
    "    \n",
    "    organism = entry.find(\"base:organism\", namespaces).find(\"base:name\", namespaces).text\n",
    "    \n",
    "    PubMed = []\n",
    "    \n",
    "    for ref in entry.findall(\"base:reference\", namespaces):\n",
    "        for dbref in ref.findall(\"./base:citation/base:dbReference\", namespaces):\n",
    "            if dbref.attrib[\"type\"] == \"PubMed\":\n",
    "                PubMed.append(dbref.attrib[\"id\"])\n",
    "    \n",
    "    try:\n",
    "        function = entry.find(\"./base:comment[@type='function']/base:text\", namespaces).text\n",
    "    except AttributeError:\n",
    "        function = \"None\"\n",
    "\n",
    "    Match_status = entry.find(\"./base:dbReference[@type='Pfam'][@id='PF00249']/base:property[@type='match status']\", namespaces).attrib[\"value\"]\n",
    "            \n",
    "    domain = []\n",
    "    for dom in entry.findall(\"./base:feature[@type='domain']\", namespaces):\n",
    "        start = dom.find(\"./base:location/base:begin\", namespaces).attrib[\"position\"]\n",
    "        end = dom.find(\"./base:location/base:end\", namespaces).attrib[\"position\"]\n",
    "        domain.append((dom.attrib[\"description\"], start, end))\n",
    "\n",
    "    seq = entry.find(\"base:sequence\", namespaces).text\n",
    "    \n",
    "    protein_evidence = entry.find(\"./base:proteinExistence\", namespaces).attrib[\"type\"]\n",
    "    \n",
    "    accession = ';'.join(accession)\n",
    "    # print(name)\n",
    "    # print(recomended_name)\n",
    "    # print(short_name)\n",
    "    # print(organism)\n",
    "    PubMed = ';'.join(PubMed)\n",
    "    print(function)\n",
    "    # print(Match_status)\n",
    "    domain = ';'.join(list(map(str, domain)))\n",
    "    # print(seq)\n",
    "    # print(protein_evidence)\n",
    "    print()\n",
    "    \n",
    "    fw.write('\\t'.join([accession, name, recomended_name, short_name, organism, PubMed, function, Match_status, domain, seq, protein_evidence]) + '\\n')"
   ]
  },
  {
   "cell_type": "code",
   "execution_count": 20,
   "id": "df881586-dd34-4b15-b9f0-5f65c4826ef7",
   "metadata": {},
   "outputs": [],
   "source": [
    "fw.close()"
   ]
  },
  {
   "cell_type": "code",
   "execution_count": null,
   "id": "61579267-d281-41e2-8752-220b18ab8890",
   "metadata": {},
   "outputs": [],
   "source": []
  },
  {
   "cell_type": "code",
   "execution_count": null,
   "id": "af02cc01-4f3c-4a5c-acf4-49b8e6a5ad65",
   "metadata": {},
   "outputs": [],
   "source": []
  }
 ],
 "metadata": {
  "kernelspec": {
   "display_name": "Python 3",
   "language": "python",
   "name": "python3"
  },
  "language_info": {
   "codemirror_mode": {
    "name": "ipython",
    "version": 3
   },
   "file_extension": ".py",
   "mimetype": "text/x-python",
   "name": "python",
   "nbconvert_exporter": "python",
   "pygments_lexer": "ipython3",
   "version": "3.9.5"
  }
 },
 "nbformat": 4,
 "nbformat_minor": 5
}
